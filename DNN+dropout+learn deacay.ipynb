{
 "cells": [
  {
   "cell_type": "code",
   "execution_count": null,
   "metadata": {
    "collapsed": true
   },
   "outputs": [],
   "source": [
    "import tensorflow as tf"
   ]
  },
  {
   "cell_type": "code",
   "execution_count": 7,
   "metadata": {},
   "outputs": [
    {
     "name": "stdout",
     "output_type": "stream",
     "text": [
      "Extracting data/train-images-idx3-ubyte.gz\n",
      "Extracting data/train-labels-idx1-ubyte.gz\n",
      "Extracting data/t10k-images-idx3-ubyte.gz\n",
      "Extracting data/t10k-labels-idx1-ubyte.gz\n",
      "Accuracy:  0.9726\n",
      "listo el pollo\n"
     ]
    }
   ],
   "source": [
    "import tensorflow as tf\n",
    "import math\n",
    "from tensorflow.examples.tutorials.mnist import input_data\n",
    "mnist = input_data.read_data_sets('data',one_hot=True)\n",
    "\n",
    "no_hl1=200\n",
    "no_hl2=100\n",
    "no_hl3=60\n",
    "no_hl4=30\n",
    "no_fl=10\n",
    "\n",
    "nclases=10\n",
    "batch_size=100\n",
    "learning_rate=0.5\n",
    "dropout_ratio=0.75\n",
    "nit=100\n",
    "\n",
    "x=tf.placeholder(tf.float32,[None,784],name= \"entrada\")\n",
    "y = tf.placeholder(tf.float32)\n",
    "lr= tf.placeholder(tf.float32)\n",
    "\n",
    "def nn_model(data):\n",
    "    hl1={'weights':tf.Variable(tf.truncated_normal([784,no_hl1],stddev=0.1)),\n",
    "            'bias':tf.Variable(tf.zeros([no_hl1]))}\n",
    "    hl2={'weights':tf.Variable(tf.truncated_normal([no_hl1,no_hl2],stddev=0.1)),\n",
    "            'bias':tf.Variable(tf.zeros([no_hl2]))}\n",
    "    hl3={'weights':tf.Variable(tf.truncated_normal([no_hl2,no_hl3],stddev=0.1)),\n",
    "            'bias':tf.Variable(tf.zeros([no_hl3]))}\n",
    "    hl4={'weights':tf.Variable(tf.truncated_normal([no_hl3,no_hl4],stddev=0.1)),\n",
    "            'bias':tf.Variable(tf.zeros([no_hl4]))}\n",
    "    output_l={'weights':tf.Variable(tf.truncated_normal([no_hl4,no_fl],stddev=0.1)),\n",
    "            'bias':tf.Variable(tf.zeros([no_fl]))}\n",
    "    \n",
    "    sofl1=tf.add(tf.matmul(data,hl1['weights']),hl1['bias'])\n",
    "    rel1=tf.nn.relu(sofl1)\n",
    "    l1=tf.nn.dropout(rel1,dropout_ratio)\n",
    "    \n",
    "    sofl2=tf.add(tf.matmul(l1,hl2['weights']),hl2['bias'])\n",
    "    rel2=tf.nn.relu(sofl2)\n",
    "    l2=tf.nn.dropout(rel2,dropout_ratio)\n",
    "    \n",
    "    sofl3=tf.add(tf.matmul(l2,hl3['weights']),hl3['bias'])\n",
    "    rel3=tf.nn.relu(sofl3)\n",
    "    l3=tf.nn.dropout(rel3,dropout_ratio)\n",
    "    \n",
    "    sofl4=tf.add(tf.matmul(l3,hl4['weights']),hl4['bias'])\n",
    "    rel4=tf.nn.relu(sofl4)\n",
    "    l4=tf.nn.dropout(rel4,dropout_ratio)\n",
    "    \n",
    "    output=tf.add(tf.matmul(l4,output_l['weights']),output_l['bias'])\n",
    "    \n",
    "    return output\n",
    "\n",
    "def train_nn(x):\n",
    "    prediction= nn_model(x)\n",
    "    cost=  tf.reduce_mean( tf.nn.softmax_cross_entropy_with_logits(logits=prediction, labels=y) )\n",
    "    optimizer= tf.train.AdamOptimizer(lr).minimize(cost)\n",
    "    \n",
    "    with tf.Session() as sess:\n",
    "        tf.global_variables_initializer().run()\n",
    "        for epoch in range(nit):\n",
    "            epoch_loss=0\n",
    "            for _ in range(int(mnist.train.num_examples/batch_size)):\n",
    "                batch_xs, batch_ys = mnist.train.next_batch(100)\n",
    "                max_learning_rate = 0.003 \n",
    "                min_learning_rate = 0.0001 \n",
    "                decay_speed = 2000  \n",
    "                learning_rate = min_learning_rate+(max_learning_rate - min_learning_rate)* math.exp(-_/decay_speed)\n",
    "                _,c=sess.run([optimizer,cost], feed_dict={x: batch_xs, y:batch_ys,lr:learning_rate})\n",
    "                epoch_loss+=c\n",
    "                #print(epoch, ' completadas de ',nit,' ','loss: ',epoch_loss)\n",
    "        correct_prediction = tf.equal(tf.argmax(prediction, 1), tf.argmax(y, 1))\n",
    "        accuracy = tf.reduce_mean(tf.cast(correct_prediction, tf.float32))\n",
    "        print(\"Accuracy: \",sess.run(accuracy, feed_dict={x: mnist.test.images,y: mnist.test.labels}))\n",
    "        print(\"listo el pollo\")\n",
    "\n",
    "train_nn(x)\n",
    "\n"
   ]
  },
  {
   "cell_type": "code",
   "execution_count": null,
   "metadata": {
    "collapsed": true
   },
   "outputs": [],
   "source": []
  }
 ],
 "metadata": {
  "kernelspec": {
   "display_name": "Python 3",
   "language": "python",
   "name": "python3"
  },
  "language_info": {
   "codemirror_mode": {
    "name": "ipython",
    "version": 3
   },
   "file_extension": ".py",
   "mimetype": "text/x-python",
   "name": "python",
   "nbconvert_exporter": "python",
   "pygments_lexer": "ipython3",
   "version": "3.5.2"
  }
 },
 "nbformat": 4,
 "nbformat_minor": 2
}
