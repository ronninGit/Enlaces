{
 "cells": [
  {
   "cell_type": "code",
   "execution_count": 1,
   "metadata": {},
   "outputs": [
    {
     "name": "stdout",
     "output_type": "stream",
     "text": [
      "Extracting data/train-images-idx3-ubyte.gz\n",
      "Extracting data/train-labels-idx1-ubyte.gz\n",
      "Extracting data/t10k-images-idx3-ubyte.gz\n",
      "Extracting data/t10k-labels-idx1-ubyte.gz\n"
     ]
    }
   ],
   "source": [
    "from tensorflow.examples.tutorials.mnist import input_data\n",
    "mnist = input_data.read_data_sets('data',one_hot=True)"
   ]
  },
  {
   "cell_type": "code",
   "execution_count": 5,
   "metadata": {
    "collapsed": true
   },
   "outputs": [],
   "source": [
    "X_train,Y_train=mnist.train.images,mnist.train.labels\n",
    "X_val,Y_val= mnist.validation.images, mnist.validation.labels"
   ]
  },
  {
   "cell_type": "code",
   "execution_count": 19,
   "metadata": {
    "collapsed": true
   },
   "outputs": [],
   "source": [
    "from keras.models import Sequential\n",
    "from keras.layers import Dense, Activation, Dropout\n",
    "from keras import optimizers"
   ]
  },
  {
   "cell_type": "code",
   "execution_count": 20,
   "metadata": {},
   "outputs": [
    {
     "name": "stdout",
     "output_type": "stream",
     "text": [
      "_________________________________________________________________\n",
      "Layer (type)                 Output Shape              Param #   \n",
      "=================================================================\n",
      "dense_27 (Dense)             (None, 200)               157000    \n",
      "_________________________________________________________________\n",
      "dropout_1 (Dropout)          (None, 200)               0         \n",
      "_________________________________________________________________\n",
      "dense_28 (Dense)             (None, 100)               20100     \n",
      "_________________________________________________________________\n",
      "dropout_2 (Dropout)          (None, 100)               0         \n",
      "_________________________________________________________________\n",
      "dense_29 (Dense)             (None, 60)                6060      \n",
      "_________________________________________________________________\n",
      "dropout_3 (Dropout)          (None, 60)                0         \n",
      "_________________________________________________________________\n",
      "dense_30 (Dense)             (None, 30)                1830      \n",
      "_________________________________________________________________\n",
      "dropout_4 (Dropout)          (None, 30)                0         \n",
      "_________________________________________________________________\n",
      "dense_31 (Dense)             (None, 10)                310       \n",
      "_________________________________________________________________\n",
      "activation_6 (Activation)    (None, 10)                0         \n",
      "=================================================================\n",
      "Total params: 185,300\n",
      "Trainable params: 185,300\n",
      "Non-trainable params: 0\n",
      "_________________________________________________________________\n"
     ]
    }
   ],
   "source": [
    "no_hl1=200\n",
    "no_hl2=100\n",
    "no_hl3=60\n",
    "no_hl4=30\n",
    "no_fl=10\n",
    "\n",
    "model= Sequential()\n",
    "model.add(Dense(no_hl1,input_shape=(784,),activation='relu'))\n",
    "model.add(Dropout(0.25))\n",
    "model.add(Dense(no_hl2,input_shape=(no_hl1,),activation='relu'))\n",
    "model.add(Dropout(0.25))\n",
    "model.add(Dense(no_hl3,input_shape=(no_hl2,),activation='relu'))\n",
    "model.add(Dropout(0.25))\n",
    "model.add(Dense(no_hl4,input_shape=(no_hl3,),activation='relu'))\n",
    "model.add(Dropout(0.25))\n",
    "model.add(Dense(no_fl))\n",
    "model.add(Activation('softmax'))\n",
    "sgd = optimizers.SGD(lr=0.01, decay=1e-6, momentum=0.9, nesterov=True)\n",
    "model.compile(optimizer=sgd, loss='categorical_crossentropy',metrics=['accuracy'])\n",
    "\n",
    "model.summary()\n"
   ]
  },
  {
   "cell_type": "code",
   "execution_count": 21,
   "metadata": {},
   "outputs": [
    {
     "name": "stdout",
     "output_type": "stream",
     "text": [
      "Train on 55000 samples, validate on 5000 samples\n",
      "Epoch 1/60\n",
      "55000/55000 [==============================] - 2s - loss: 0.9725 - acc: 0.6752 - val_loss: 0.2497 - val_acc: 0.9298\n",
      "Epoch 2/60\n",
      "55000/55000 [==============================] - 1s - loss: 0.3665 - acc: 0.9005 - val_loss: 0.1667 - val_acc: 0.9538\n",
      "Epoch 3/60\n",
      "55000/55000 [==============================] - 1s - loss: 0.2699 - acc: 0.9291 - val_loss: 0.1290 - val_acc: 0.9672\n",
      "Epoch 4/60\n",
      "55000/55000 [==============================] - 2s - loss: 0.2257 - acc: 0.9410 - val_loss: 0.1281 - val_acc: 0.9678\n",
      "Epoch 5/60\n",
      "55000/55000 [==============================] - 2s - loss: 0.1976 - acc: 0.9496 - val_loss: 0.1206 - val_acc: 0.9716\n",
      "Epoch 6/60\n",
      "55000/55000 [==============================] - 2s - loss: 0.1788 - acc: 0.9548 - val_loss: 0.1045 - val_acc: 0.9720\n",
      "Epoch 7/60\n",
      "55000/55000 [==============================] - 1s - loss: 0.1580 - acc: 0.9595 - val_loss: 0.1029 - val_acc: 0.9738\n",
      "Epoch 8/60\n",
      "55000/55000 [==============================] - 1s - loss: 0.1494 - acc: 0.9616 - val_loss: 0.0966 - val_acc: 0.9764\n",
      "Epoch 9/60\n",
      "55000/55000 [==============================] - 2s - loss: 0.1401 - acc: 0.9644 - val_loss: 0.0954 - val_acc: 0.9758\n",
      "Epoch 10/60\n",
      "55000/55000 [==============================] - 1s - loss: 0.1288 - acc: 0.9671 - val_loss: 0.0975 - val_acc: 0.9758\n",
      "Epoch 11/60\n",
      "55000/55000 [==============================] - 2s - loss: 0.1172 - acc: 0.9698 - val_loss: 0.0928 - val_acc: 0.9794\n",
      "Epoch 12/60\n",
      "55000/55000 [==============================] - 1s - loss: 0.1142 - acc: 0.9705 - val_loss: 0.0900 - val_acc: 0.9792\n",
      "Epoch 13/60\n",
      "55000/55000 [==============================] - 1s - loss: 0.1076 - acc: 0.9714 - val_loss: 0.0879 - val_acc: 0.9794\n",
      "Epoch 14/60\n",
      "55000/55000 [==============================] - 1s - loss: 0.1028 - acc: 0.9726 - val_loss: 0.0880 - val_acc: 0.9782\n",
      "Epoch 15/60\n",
      "55000/55000 [==============================] - 1s - loss: 0.0993 - acc: 0.9745 - val_loss: 0.0822 - val_acc: 0.9798\n",
      "Epoch 16/60\n",
      "55000/55000 [==============================] - 1s - loss: 0.0953 - acc: 0.9758 - val_loss: 0.0844 - val_acc: 0.9796\n",
      "Epoch 17/60\n",
      "55000/55000 [==============================] - 1s - loss: 0.0900 - acc: 0.9764 - val_loss: 0.0903 - val_acc: 0.9796\n",
      "Epoch 18/60\n",
      "55000/55000 [==============================] - 1s - loss: 0.0882 - acc: 0.9771 - val_loss: 0.0832 - val_acc: 0.9808\n",
      "Epoch 19/60\n",
      "55000/55000 [==============================] - 1s - loss: 0.0820 - acc: 0.9784 - val_loss: 0.0873 - val_acc: 0.9832\n",
      "Epoch 20/60\n",
      "55000/55000 [==============================] - 1s - loss: 0.0789 - acc: 0.9795 - val_loss: 0.0930 - val_acc: 0.9804\n",
      "Epoch 21/60\n",
      "55000/55000 [==============================] - 1s - loss: 0.0766 - acc: 0.9798 - val_loss: 0.0839 - val_acc: 0.9816\n",
      "Epoch 22/60\n",
      "55000/55000 [==============================] - 1s - loss: 0.0762 - acc: 0.9797 - val_loss: 0.0903 - val_acc: 0.9808\n",
      "Epoch 23/60\n",
      "55000/55000 [==============================] - 1s - loss: 0.0701 - acc: 0.9812 - val_loss: 0.0944 - val_acc: 0.9784\n",
      "Epoch 24/60\n",
      "55000/55000 [==============================] - 1s - loss: 0.0721 - acc: 0.9814 - val_loss: 0.0834 - val_acc: 0.9830\n",
      "Epoch 25/60\n",
      "55000/55000 [==============================] - 1s - loss: 0.0680 - acc: 0.9815 - val_loss: 0.0880 - val_acc: 0.9806\n",
      "Epoch 26/60\n",
      "55000/55000 [==============================] - 1s - loss: 0.0672 - acc: 0.9827 - val_loss: 0.0865 - val_acc: 0.9812\n",
      "Epoch 27/60\n",
      "55000/55000 [==============================] - 2s - loss: 0.0654 - acc: 0.9831 - val_loss: 0.0950 - val_acc: 0.9794\n",
      "Epoch 28/60\n",
      "55000/55000 [==============================] - 1s - loss: 0.0620 - acc: 0.9838 - val_loss: 0.0911 - val_acc: 0.9808\n",
      "Epoch 29/60\n",
      "55000/55000 [==============================] - 1s - loss: 0.0634 - acc: 0.9833 - val_loss: 0.0932 - val_acc: 0.9812\n",
      "Epoch 30/60\n",
      "55000/55000 [==============================] - 2s - loss: 0.0589 - acc: 0.9850 - val_loss: 0.0877 - val_acc: 0.9818\n",
      "Epoch 31/60\n",
      "55000/55000 [==============================] - 1s - loss: 0.0605 - acc: 0.9845 - val_loss: 0.0874 - val_acc: 0.9814\n",
      "Epoch 32/60\n",
      "55000/55000 [==============================] - 1s - loss: 0.0578 - acc: 0.9852 - val_loss: 0.0855 - val_acc: 0.9836\n",
      "Epoch 33/60\n",
      "55000/55000 [==============================] - 1s - loss: 0.0551 - acc: 0.9853 - val_loss: 0.0874 - val_acc: 0.9832\n",
      "Epoch 34/60\n",
      "55000/55000 [==============================] - 1s - loss: 0.0548 - acc: 0.9854 - val_loss: 0.0977 - val_acc: 0.9800\n",
      "Epoch 35/60\n",
      "55000/55000 [==============================] - 1s - loss: 0.0558 - acc: 0.9849 - val_loss: 0.0822 - val_acc: 0.9824\n",
      "Epoch 36/60\n",
      "55000/55000 [==============================] - 1s - loss: 0.0505 - acc: 0.9871 - val_loss: 0.0882 - val_acc: 0.9822\n",
      "Epoch 37/60\n",
      "55000/55000 [==============================] - 1s - loss: 0.0518 - acc: 0.9858 - val_loss: 0.0966 - val_acc: 0.9810\n",
      "Epoch 38/60\n",
      "55000/55000 [==============================] - 1s - loss: 0.0511 - acc: 0.9858 - val_loss: 0.0923 - val_acc: 0.9818\n",
      "Epoch 39/60\n",
      "55000/55000 [==============================] - 1s - loss: 0.0496 - acc: 0.9871 - val_loss: 0.0895 - val_acc: 0.9822\n",
      "Epoch 40/60\n",
      "55000/55000 [==============================] - 1s - loss: 0.0501 - acc: 0.9868 - val_loss: 0.0862 - val_acc: 0.9830\n",
      "Epoch 41/60\n",
      "55000/55000 [==============================] - 1s - loss: 0.0483 - acc: 0.9875 - val_loss: 0.0894 - val_acc: 0.9810\n",
      "Epoch 42/60\n",
      "55000/55000 [==============================] - 1s - loss: 0.0454 - acc: 0.9883 - val_loss: 0.0838 - val_acc: 0.9830\n",
      "Epoch 43/60\n",
      "55000/55000 [==============================] - 1s - loss: 0.0463 - acc: 0.9878 - val_loss: 0.0898 - val_acc: 0.9806\n",
      "Epoch 44/60\n",
      "55000/55000 [==============================] - 1s - loss: 0.0444 - acc: 0.9881 - val_loss: 0.0910 - val_acc: 0.9826\n",
      "Epoch 45/60\n",
      "55000/55000 [==============================] - 1s - loss: 0.0474 - acc: 0.9878 - val_loss: 0.0921 - val_acc: 0.9810\n",
      "Epoch 46/60\n",
      "55000/55000 [==============================] - 1s - loss: 0.0460 - acc: 0.9879 - val_loss: 0.0853 - val_acc: 0.9830\n",
      "Epoch 47/60\n",
      "55000/55000 [==============================] - 2s - loss: 0.0434 - acc: 0.9883 - val_loss: 0.0860 - val_acc: 0.9824\n",
      "Epoch 48/60\n",
      "55000/55000 [==============================] - 1s - loss: 0.0411 - acc: 0.9891 - val_loss: 0.0886 - val_acc: 0.9836\n",
      "Epoch 49/60\n",
      "55000/55000 [==============================] - 1s - loss: 0.0424 - acc: 0.9886 - val_loss: 0.0911 - val_acc: 0.9824\n",
      "Epoch 50/60\n",
      "55000/55000 [==============================] - 1s - loss: 0.0410 - acc: 0.9896 - val_loss: 0.0906 - val_acc: 0.9820\n",
      "Epoch 51/60\n",
      "55000/55000 [==============================] - 1s - loss: 0.0400 - acc: 0.9897 - val_loss: 0.0916 - val_acc: 0.9820\n",
      "Epoch 52/60\n",
      "55000/55000 [==============================] - 1s - loss: 0.0389 - acc: 0.9895 - val_loss: 0.0969 - val_acc: 0.9812\n",
      "Epoch 53/60\n",
      "55000/55000 [==============================] - 1s - loss: 0.0378 - acc: 0.9895 - val_loss: 0.0904 - val_acc: 0.9838\n",
      "Epoch 54/60\n",
      "55000/55000 [==============================] - 1s - loss: 0.0351 - acc: 0.9909 - val_loss: 0.0913 - val_acc: 0.9836\n",
      "Epoch 55/60\n",
      "55000/55000 [==============================] - 1s - loss: 0.0383 - acc: 0.9899 - val_loss: 0.0931 - val_acc: 0.9826\n",
      "Epoch 56/60\n",
      "55000/55000 [==============================] - 2s - loss: 0.0379 - acc: 0.9902 - val_loss: 0.0894 - val_acc: 0.9820\n",
      "Epoch 57/60\n",
      "55000/55000 [==============================] - 1s - loss: 0.0361 - acc: 0.9906 - val_loss: 0.0939 - val_acc: 0.9816\n",
      "Epoch 58/60\n",
      "55000/55000 [==============================] - 1s - loss: 0.0352 - acc: 0.9908 - val_loss: 0.0945 - val_acc: 0.9816\n",
      "Epoch 59/60\n",
      "55000/55000 [==============================] - 1s - loss: 0.0358 - acc: 0.9907 - val_loss: 0.0850 - val_acc: 0.9834\n",
      "Epoch 60/60\n",
      "55000/55000 [==============================] - 1s - loss: 0.0367 - acc: 0.9903 - val_loss: 0.0951 - val_acc: 0.9832\n"
     ]
    }
   ],
   "source": [
    "network_history=model.fit(X_train, Y_train, validation_data = (X_val, Y_val), epochs=60, \n",
    "          batch_size=100, verbose=True)"
   ]
  },
  {
   "cell_type": "code",
   "execution_count": 22,
   "metadata": {},
   "outputs": [
    {
     "data": {
      "image/png": "[encoded data removed]",
      "text/plain": [
       "<matplotlib.figure.Figure at 0x7fa6aef71d68>"
      ]
     },
     "metadata": {},
     "output_type": "display_data"
    },
    {
     "data": {
      "image/png": "[encoded data removed]",
      "text/plain": [
       "<matplotlib.figure.Figure at 0x7fa62d897eb8>"
      ]
     },
     "metadata": {},
     "output_type": "display_data"
    }
   ],
   "source": [
    "import matplotlib.pyplot as plt\n",
    "%matplotlib inline\n",
    "\n",
    "def plot_history(network_history):\n",
    "    plt.figure()\n",
    "    plt.xlabel('Epochs')\n",
    "    plt.ylabel('Loss')\n",
    "    plt.plot(network_history.history['loss'])\n",
    "    plt.plot(network_history.history['val_loss'])\n",
    "    plt.legend(['Training', 'Validation'])\n",
    "\n",
    "    plt.figure()\n",
    "    plt.xlabel('Epochs')\n",
    "    plt.ylabel('Accuracy')\n",
    "    plt.plot(network_history.history['acc'])\n",
    "    plt.plot(network_history.history['val_acc'])\n",
    "    plt.legend(['Training', 'Validation'], loc='lower right')\n",
    "    plt.show()\n",
    "\n",
    "plot_history(network_history)"
   ]
  },
  {
   "cell_type": "code",
   "execution_count": null,
   "metadata": {
    "collapsed": true
   },
   "outputs": [],
   "source": []
  }
 ],
 "metadata": {
  "kernelspec": {
   "display_name": "Python 3",
   "language": "python",
   "name": "python3"
  },
  "language_info": {
   "codemirror_mode": {
    "name": "ipython",
    "version": 3
   },
   "file_extension": ".py",
   "mimetype": "text/x-python",
   "name": "python",
   "nbconvert_exporter": "python",
   "pygments_lexer": "ipython3",
   "version": "3.5.2"
  }
 },
 "nbformat": 4,
 "nbformat_minor": 2
}
