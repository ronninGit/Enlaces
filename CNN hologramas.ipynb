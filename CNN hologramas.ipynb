{
 "cells": [
  {
   "cell_type": "code",
   "execution_count": 1,
   "metadata": {
    "collapsed": true
   },
   "outputs": [],
   "source": [
    "import tensorflow as tf"
   ]
  },
  {
   "cell_type": "code",
   "execution_count": 2,
   "metadata": {
    "collapsed": true
   },
   "outputs": [],
   "source": [
    "import pandas as pd\n",
    "import numpy as np\n",
    "import matplotlib.pyplot as plt\n",
    "%matplotlib inline"
   ]
  },
  {
   "cell_type": "code",
   "execution_count": 69,
   "metadata": {},
   "outputs": [],
   "source": [
    "datos=pd.read_excel(\"datosholograma-def.xls\",header=None)"
   ]
  },
  {
   "cell_type": "code",
   "execution_count": 70,
   "metadata": {},
   "outputs": [
    {
     "data": {
      "text/html": [
       "<div>\n",
       "<style>\n",
       "    .dataframe thead tr:only-child th {\n",
       "        text-align: right;\n",
       "    }\n",
       "\n",
       "    .dataframe thead th {\n",
       "        text-align: left;\n",
       "    }\n",
       "\n",
       "    .dataframe tbody tr th {\n",
       "        vertical-align: top;\n",
       "    }\n",
       "</style>\n",
       "<table border=\"1\" class=\"dataframe\">\n",
       "  <thead>\n",
       "    <tr style=\"text-align: right;\">\n",
       "      <th></th>\n",
       "      <th>0</th>\n",
       "      <th>1</th>\n",
       "      <th>2</th>\n",
       "      <th>3</th>\n",
       "      <th>4</th>\n",
       "      <th>5</th>\n",
       "      <th>6</th>\n",
       "    </tr>\n",
       "  </thead>\n",
       "  <tbody>\n",
       "    <tr>\n",
       "      <th>0</th>\n",
       "      <td>84.37</td>\n",
       "      <td>84.946893</td>\n",
       "      <td>88.405446</td>\n",
       "      <td>NaN</td>\n",
       "      <td>115</td>\n",
       "      <td>82.0</td>\n",
       "      <td>68.0</td>\n",
       "    </tr>\n",
       "    <tr>\n",
       "      <th>1</th>\n",
       "      <td>145.394</td>\n",
       "      <td>145.798519</td>\n",
       "      <td>142.412920</td>\n",
       "      <td>NaN</td>\n",
       "      <td>194</td>\n",
       "      <td>150.0</td>\n",
       "      <td>130.0</td>\n",
       "    </tr>\n",
       "    <tr>\n",
       "      <th>2</th>\n",
       "      <td>84.4533</td>\n",
       "      <td>114.031199</td>\n",
       "      <td>118.326636</td>\n",
       "      <td>NaN</td>\n",
       "      <td>98</td>\n",
       "      <td>122.0</td>\n",
       "      <td>157.0</td>\n",
       "    </tr>\n",
       "    <tr>\n",
       "      <th>3</th>\n",
       "      <td>69.2098</td>\n",
       "      <td>108.242550</td>\n",
       "      <td>106.630445</td>\n",
       "      <td>NaN</td>\n",
       "      <td>87</td>\n",
       "      <td>108.0</td>\n",
       "      <td>67.0</td>\n",
       "    </tr>\n",
       "    <tr>\n",
       "      <th>4</th>\n",
       "      <td>123.402</td>\n",
       "      <td>130.022399</td>\n",
       "      <td>130.129105</td>\n",
       "      <td>NaN</td>\n",
       "      <td>133</td>\n",
       "      <td>128.0</td>\n",
       "      <td>177.0</td>\n",
       "    </tr>\n",
       "  </tbody>\n",
       "</table>\n",
       "</div>"
      ],
      "text/plain": [
       "         0           1           2   3    4      5      6\n",
       "0    84.37   84.946893   88.405446 NaN  115   82.0   68.0\n",
       "1  145.394  145.798519  142.412920 NaN  194  150.0  130.0\n",
       "2  84.4533  114.031199  118.326636 NaN   98  122.0  157.0\n",
       "3  69.2098  108.242550  106.630445 NaN   87  108.0   67.0\n",
       "4  123.402  130.022399  130.129105 NaN  133  128.0  177.0"
      ]
     },
     "execution_count": 70,
     "metadata": {},
     "output_type": "execute_result"
    }
   ],
   "source": [
    "datos.head()"
   ]
  },
  {
   "cell_type": "code",
   "execution_count": 71,
   "metadata": {},
   "outputs": [],
   "source": [
    "entrada=datos.values[:-1,0:3]\n",
    "salida=datos.values[:-1,4:]\n"
   ]
  },
  {
   "cell_type": "code",
   "execution_count": 77,
   "metadata": {},
   "outputs": [
    {
     "name": "stdout",
     "output_type": "stream",
     "text": [
      "Optimization Finished!\n",
      "Accuracy: 0.875\n",
      "cost:  0.0\n"
     ]
    },
    {
     "data": {
      "text/plain": [
       "[<matplotlib.lines.Line2D at 0x26eb893eeb8>]"
      ]
     },
     "execution_count": 77,
     "metadata": {},
     "output_type": "execute_result"
    },
    {
     "data": {
      "image/png": "[encoded data removed]",
      "text/plain": [
       "<matplotlib.figure.Figure at 0x26ea0127e48>"
      ]
     },
     "metadata": {},
     "output_type": "display_data"
    }
   ],
   "source": [
    "X_train=entrada\n",
    "Y_train=salida\n",
    "\n",
    "total_len = X_train.shape[0]\n",
    "# Parameters\n",
    "learning_rate = 0.001\n",
    "training_epochs = 50000\n",
    "batch_size = 10\n",
    "display_step = 1\n",
    "dropout_rate = 0.9\n",
    "# Network Parameters\n",
    "n_hidden_1 = 32 # 1st layer number of features\n",
    "n_hidden_2 = 200 # 2nd layer number of features\n",
    "n_hidden_3 = 200\n",
    "n_hidden_4 = 256\n",
    "n_input = X_train.shape[1]\n",
    "n_classes = 3\n",
    "\n",
    "# tf Graph input\n",
    "x = tf.placeholder(\"float\", [None, 3])\n",
    "y = tf.placeholder(\"float\", [None,3])\n",
    "\n",
    "# Create model\n",
    "def multilayer_perceptron(x, weights, biases):\n",
    "    # Hidden layer with RELU activation\n",
    "    layer_1 = tf.add(tf.matmul(x, weights['h1']), biases['b1'])\n",
    "    layer_1 = tf.nn.relu(layer_1)\n",
    "\n",
    "    # Hidden layer with RELU activation\n",
    "    layer_2 = tf.add(tf.matmul(layer_1, weights['h2']), biases['b2'])\n",
    "    layer_2 = tf.nn.relu(layer_2)\n",
    "\n",
    "    # Hidden layer with RELU activation\n",
    "    layer_3 = tf.add(tf.matmul(layer_2, weights['h3']), biases['b3'])\n",
    "    layer_3 = tf.nn.relu(layer_3)\n",
    "\n",
    "    # Hidden layer with RELU activation\n",
    "    layer_4 = tf.add(tf.matmul(layer_3, weights['h4']), biases['b4'])\n",
    "    layer_4 = tf.nn.relu(layer_4)\n",
    "\n",
    "    # Output layer with linear activation\n",
    "    out_layer = tf.matmul(layer_4, weights['out']) + biases['out']\n",
    "    return out_layer\n",
    "\n",
    "# Store layers weight & bias\n",
    "weights = {\n",
    "    'h1': tf.Variable(tf.random_normal([n_input, n_hidden_1], 0, 0.1)),\n",
    "    'h2': tf.Variable(tf.random_normal([n_hidden_1, n_hidden_2], 0, 0.1)),\n",
    "    'h3': tf.Variable(tf.random_normal([n_hidden_2, n_hidden_3], 0, 0.1)),\n",
    "    'h4': tf.Variable(tf.random_normal([n_hidden_3, n_hidden_4], 0, 0.1)),\n",
    "    'out': tf.Variable(tf.random_normal([n_hidden_4, n_classes], 0, 0.1))\n",
    "}\n",
    "biases = {\n",
    "    'b1': tf.Variable(tf.random_normal([n_hidden_1], 0, 0.1)),\n",
    "    'b2': tf.Variable(tf.random_normal([n_hidden_2], 0, 0.1)),\n",
    "    'b3': tf.Variable(tf.random_normal([n_hidden_3], 0, 0.1)),\n",
    "    'b4': tf.Variable(tf.random_normal([n_hidden_4], 0, 0.1)),\n",
    "    'out': tf.Variable(tf.random_normal([n_classes], 0, 0.1))\n",
    "}\n",
    "\n",
    "# Construct model\n",
    "pred = multilayer_perceptron(x, weights, biases)\n",
    "\n",
    "# Define loss and optimizer\n",
    "cost = tf.reduce_mean(tf.square(pred-y))\n",
    "optimizer = tf.train.AdamOptimizer(learning_rate=learning_rate).minimize(cost)\n",
    "\n",
    "history_cost=[]\n",
    "history_acur=[]\n",
    "# Launch the graph\n",
    "with tf.Session() as sess:\n",
    "    sess.run(tf.global_variables_initializer())\n",
    "\n",
    "    # Training cycle\n",
    "    for epoch in range(training_epochs):\n",
    "        avg_cost = 0.\n",
    "        total_batch = int(total_len/batch_size)\n",
    "        _,c, p = sess.run([optimizer, cost, pred], feed_dict={x: X_train, y: Y_train})\n",
    "        # Loop over all batches\n",
    "#         for i in range(total_batch-1):\n",
    "#             batch_x = X_train[i*batch_size:(i+1)*batch_size]\n",
    "#             batch_y = Y_train[i*batch_size:(i+1)*batch_size]\n",
    "#             # Run optimization op (backprop) and cost op (to get loss value)\n",
    "#             _, c, p = sess.run([optimizer, cost, pred], feed_dict={x: batch_x,\n",
    "#                                                           y: batch_y})\n",
    "#             # Compute average loss\n",
    "#             avg_cost += c / total_batch\n",
    "\n",
    "        # sample prediction\n",
    "#         label_value = batch_y\n",
    "        label_value=Y_train\n",
    "        estimate = p\n",
    "        err = label_value-estimate\n",
    "#         print (\"num batch:\", total_batch)\n",
    "\n",
    "        # Display logs per epoch step\n",
    "        if epoch % display_step == 0:\n",
    "#             print (\"Epoch:\", '%04d' % (epoch+1), \"cost=\", \\\n",
    "#                 \"{:.9f}\".format(avg_cost))\n",
    "            history_cost.append(avg_cost)\n",
    "#             print (\"[*]----------------------------\")\n",
    "#             for i in range(3):\n",
    "#                 print (\"label value:\", label_value[i], \\\n",
    "#                     \"estimated value:\", estimate[i])\n",
    "#             print (\"[*]============================\")\n",
    "\n",
    "    print (\"Optimization Finished!\") \n",
    "\n",
    "    # Test model\n",
    "    correct_prediction = tf.equal(tf.argmax(pred, 1), tf.argmax(y, 1))\n",
    "    # Calculate accuracy\n",
    "    accuracy = tf.reduce_mean(tf.cast(correct_prediction, \"float\"))\n",
    "    history_acur.append(accuracy)\n",
    "       \n",
    "    print (\"Accuracy:\", accuracy.eval({x: X_train, y: Y_train}))\n",
    "    print(\"cost: \", avg_cost)\n",
    "    saver = tf.train.Saver() \n",
    "    save_path = saver.save(sess, \"checkpoints/diego\") \n",
    "plt.plot(history_cost)\n",
    "# plt.axis([0, training_epochs, 0, 20])\n",
    "\n",
    "\n",
    "# f, axarr = plt.subplots(2, sharex=True)\n",
    "# axarr[0].plot(history_cost)\n",
    "# axarr[0].set_title('Matrices')\n",
    "# axarr[1].plot(history_acur)"
   ]
  },
  {
   "cell_type": "code",
   "execution_count": 78,
   "metadata": {
    "collapsed": true
   },
   "outputs": [],
   "source": [
    "\n",
    "tf.reset_default_graph()"
   ]
  },
  {
   "cell_type": "code",
   "execution_count": 79,
   "metadata": {},
   "outputs": [
    {
     "name": "stdout",
     "output_type": "stream",
     "text": [
      "INFO:tensorflow:Restoring parameters from checkpoints/diego\n"
     ]
    }
   ],
   "source": [
    "\n",
    "sess=tf.InteractiveSession()\n",
    "saver= tf.train.import_meta_graph('checkpoints/diego.meta')\n",
    "saver.restore(sess, \"checkpoints/diego\")"
   ]
  },
  {
   "cell_type": "code",
   "execution_count": 80,
   "metadata": {},
   "outputs": [
    {
     "name": "stdout",
     "output_type": "stream",
     "text": [
      "[[ 114.71552277   81.79224396   67.911026  ]\n",
      " [ 193.98632812  150.16223145  130.07086182]\n",
      " [  97.85005188  121.43009949  157.42926025]\n",
      " [  86.92189026  107.07813263   66.71955872]\n",
      " [ 132.98495483  128.22581482  177.07377625]\n",
      " [ 102.89069366  188.99815369  169.9942627 ]\n",
      " [ 213.94213867  126.07823944   44.0398941 ]\n",
      " [  79.82534027   90.9853363   165.18855286]\n",
      " [ 192.948349     90.02725983   99.02600098]\n",
      " [  93.99304962   59.96570587  108.02996826]\n",
      " [ 157.1491394   188.43380737   64.22414398]\n",
      " [ 223.99064636  162.94851685   46.03160477]\n",
      " [  55.99329376   60.99301529  149.94921875]\n",
      " [  69.99786377  148.00538635   72.97123718]\n",
      " [ 174.91992188   54.01860046   59.93754959]\n",
      " [ 231.04705811  198.94706726   31.05512047]\n",
      " [ 186.94573975   85.945961    148.99066162]\n",
      " [   8.13056564  133.02371216  160.86630249]\n",
      " [ 242.98426819  242.95219421  242.45724487]\n",
      " [ 195.93029785  195.12278748  191.85296631]\n",
      " [ 164.53971863  165.93167114  168.93841553]\n",
      " [ 121.99053192  121.90431976  120.71141815]\n",
      " [  85.02428436   85.24276733   85.03636932]\n",
      " [  52.02064133   52.17300415   52.01454926]]\n"
     ]
    }
   ],
   "source": [
    "x = tf.placeholder(\"float\", [None, 3])\n",
    "\n",
    "x1=entrada\n",
    "print(sess.run(tf.cast(p,tf.float32),feed_dict={x:x1}))"
   ]
  },
  {
   "cell_type": "code",
   "execution_count": 81,
   "metadata": {},
   "outputs": [
    {
     "data": {
      "text/plain": [
       "array([[115, 82.0, 68.0],\n",
       "       [194, 150.0, 130.0],\n",
       "       [98, 122.0, 157.0],\n",
       "       [87, 108.0, 67.0],\n",
       "       [133, 128.0, 177.0],\n",
       "       [103, 189.0, 170.0],\n",
       "       [214, 126.0, 44.0],\n",
       "       [80, 91.0, 166.0],\n",
       "       [193, 90.0, 99.0],\n",
       "       [94, 60.0, 108.0],\n",
       "       [157, 188.0, 64.0],\n",
       "       [224, 163.0, 46.0],\n",
       "       [56, 61.0, 150.0],\n",
       "       [70, 148.0, 73.0],\n",
       "       [175, 54.0, 60.0],\n",
       "       [231, 199.0, 31.0],\n",
       "       [187, 86.0, 149.0],\n",
       "       [8, 133.0, 161.0],\n",
       "       [243, 243.0, 242.0],\n",
       "       [200, 200.0, 200.0],\n",
       "       [160, 160.0, 160.0],\n",
       "       [122, 122.0, 121.0],\n",
       "       [85, 85.0, 85.0],\n",
       "       [52, 52.0, 52.0]], dtype=object)"
      ]
     },
     "execution_count": 81,
     "metadata": {},
     "output_type": "execute_result"
    }
   ],
   "source": [
    "salida"
   ]
  },
  {
   "cell_type": "code",
   "execution_count": null,
   "metadata": {
    "collapsed": true
   },
   "outputs": [],
   "source": []
  }
 ],
 "metadata": {
  "kernelspec": {
   "display_name": "Python 3",
   "language": "python",
   "name": "python3"
  },
  "language_info": {
   "codemirror_mode": {
    "name": "ipython",
    "version": 3
   },
   "file_extension": ".py",
   "mimetype": "text/x-python",
   "name": "python",
   "nbconvert_exporter": "python",
   "pygments_lexer": "ipython3",
   "version": "3.6.1"
  }
 },
 "nbformat": 4,
 "nbformat_minor": 2
}
