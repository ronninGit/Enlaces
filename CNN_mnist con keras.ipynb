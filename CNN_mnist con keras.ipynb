{
 "cells": [
  {
   "cell_type": "code",
   "execution_count": 1,
   "metadata": {},
   "outputs": [
    {
     "name": "stdout",
     "output_type": "stream",
     "text": [
      "Extracting data/train-images-idx3-ubyte.gz\n",
      "Extracting data/train-labels-idx1-ubyte.gz\n",
      "Extracting data/t10k-images-idx3-ubyte.gz\n",
      "Extracting data/t10k-labels-idx1-ubyte.gz\n"
     ]
    },
    {
     "name": "stderr",
     "output_type": "stream",
     "text": [
      "Using TensorFlow backend.\n"
     ]
    }
   ],
   "source": [
    "from tensorflow.examples.tutorials.mnist import input_data\n",
    "mnist = input_data.read_data_sets('data',one_hot=True)\n",
    "from keras.models import Sequential\n",
    "from keras.layers.core import Dense, Dropout, Activation, Flatten\n",
    "from keras.layers.convolutional import Conv2D\n",
    "from keras.layers.pooling import MaxPooling2D\n",
    "from keras.utils import np_utils\n",
    "from keras.optimizers import SGD"
   ]
  },
  {
   "cell_type": "code",
   "execution_count": 37,
   "metadata": {
    "collapsed": true
   },
   "outputs": [],
   "source": [
    "X_train,Y_train=mnist.train.images,mnist.train.labels\n",
    "X_val,Y_val= mnist.validation.images, mnist.validation.labels\n",
    "X_test,Y_test= mnist.test.images, mnist.test.labels\n",
    "X_train=X_train.reshape(X_train.shape[0],28,28,1)\n",
    "X_val=X_val.reshape(X_val.shape[0],28,28,1)\n",
    "X_test=X_test.reshape(X_test.shape[0],28,28,1)"
   ]
  },
  {
   "cell_type": "code",
   "execution_count": 38,
   "metadata": {},
   "outputs": [
    {
     "name": "stdout",
     "output_type": "stream",
     "text": [
      "_________________________________________________________________\n",
      "Layer (type)                 Output Shape              Param #   \n",
      "=================================================================\n",
      "conv2d_36 (Conv2D)           (None, 26, 26, 32)        320       \n",
      "_________________________________________________________________\n",
      "dropout_14 (Dropout)         (None, 26, 26, 32)        0         \n",
      "_________________________________________________________________\n",
      "conv2d_37 (Conv2D)           (None, 24, 24, 64)        18496     \n",
      "_________________________________________________________________\n",
      "max_pooling2d_18 (MaxPooling (None, 12, 12, 64)        0         \n",
      "_________________________________________________________________\n",
      "conv2d_38 (Conv2D)           (None, 10, 10, 128)       73856     \n",
      "_________________________________________________________________\n",
      "max_pooling2d_19 (MaxPooling (None, 5, 5, 128)         0         \n",
      "_________________________________________________________________\n",
      "conv2d_39 (Conv2D)           (None, 3, 3, 256)         295168    \n",
      "_________________________________________________________________\n",
      "max_pooling2d_20 (MaxPooling (None, 1, 1, 256)         0         \n",
      "_________________________________________________________________\n",
      "dropout_15 (Dropout)         (None, 1, 1, 256)         0         \n",
      "_________________________________________________________________\n",
      "flatten_6 (Flatten)          (None, 256)               0         \n",
      "_________________________________________________________________\n",
      "dense_11 (Dense)             (None, 128)               32896     \n",
      "_________________________________________________________________\n",
      "dropout_16 (Dropout)         (None, 128)               0         \n",
      "_________________________________________________________________\n",
      "dense_12 (Dense)             (None, 10)                1290      \n",
      "=================================================================\n",
      "Total params: 422,026\n",
      "Trainable params: 422,026\n",
      "Non-trainable params: 0\n",
      "_________________________________________________________________\n"
     ]
    }
   ],
   "source": [
    "h1=32\n",
    "h2=64\n",
    "h3=128\n",
    "h4=256\n",
    "kernel=3\n",
    "pool=2\n",
    "input_shape=(28,28,1)\n",
    "\n",
    "model = Sequential()\n",
    "model.add(Conv2D(32, kernel_size=(3, 3),activation='relu',input_shape=input_shape))\n",
    "model.add(Dropout(0.25))\n",
    "model.add(Conv2D(64, (3, 3), activation='relu'))\n",
    "model.add(MaxPooling2D(pool_size=(2, 2)))\n",
    "model.add(Conv2D(128, (3, 3), activation='relu'))\n",
    "model.add(MaxPooling2D(pool_size=(2, 2)))\n",
    "model.add(Conv2D(256, (3, 3), activation='relu'))\n",
    "model.add(MaxPooling2D(pool_size=(2, 2)))\n",
    "model.add(Dropout(0.25))\n",
    "model.add(Flatten())\n",
    "model.add(Dense(128, activation='relu'))\n",
    "model.add(Dropout(0.25))\n",
    "model.add(Dense(10, activation='softmax'))\n",
    "\n",
    "sgd = SGD(lr=0.01, decay=1e-6, momentum=0.9, nesterov=True)\n",
    "model.compile(optimizer=sgd, loss='categorical_crossentropy',metrics=['accuracy'])\n",
    "\n",
    "model.summary()"
   ]
  },
  {
   "cell_type": "code",
   "execution_count": 39,
   "metadata": {},
   "outputs": [
    {
     "name": "stdout",
     "output_type": "stream",
     "text": [
      "Train on 55000 samples, validate on 5000 samples\n",
      "Epoch 1/60\n",
      "55000/55000 [==============================] - 34s - loss: 0.5286 - acc: 0.8268 - val_loss: 0.1067 - val_acc: 0.9684\n",
      "Epoch 2/60\n",
      "55000/55000 [==============================] - 20s - loss: 0.1345 - acc: 0.9593 - val_loss: 0.0785 - val_acc: 0.9790\n",
      "Epoch 3/60\n",
      "55000/55000 [==============================] - 20s - loss: 0.0962 - acc: 0.9710 - val_loss: 0.0585 - val_acc: 0.9846\n",
      "Epoch 4/60\n",
      "55000/55000 [==============================] - 20s - loss: 0.0782 - acc: 0.9767 - val_loss: 0.0543 - val_acc: 0.9848\n",
      "Epoch 5/60\n",
      "55000/55000 [==============================] - 20s - loss: 0.0640 - acc: 0.9803 - val_loss: 0.0494 - val_acc: 0.9864\n",
      "Epoch 6/60\n",
      "55000/55000 [==============================] - 20s - loss: 0.0570 - acc: 0.9822 - val_loss: 0.0478 - val_acc: 0.9864\n",
      "Epoch 7/60\n",
      "55000/55000 [==============================] - 20s - loss: 0.0499 - acc: 0.9849 - val_loss: 0.0444 - val_acc: 0.9888\n",
      "Epoch 8/60\n",
      "55000/55000 [==============================] - 20s - loss: 0.0436 - acc: 0.9865 - val_loss: 0.0406 - val_acc: 0.9892\n",
      "Epoch 9/60\n",
      "55000/55000 [==============================] - 20s - loss: 0.0393 - acc: 0.9875 - val_loss: 0.0428 - val_acc: 0.9888\n",
      "Epoch 10/60\n",
      "55000/55000 [==============================] - 20s - loss: 0.0362 - acc: 0.9893 - val_loss: 0.0434 - val_acc: 0.9884\n",
      "Epoch 11/60\n",
      "55000/55000 [==============================] - 20s - loss: 0.0331 - acc: 0.9900 - val_loss: 0.0400 - val_acc: 0.9914\n",
      "Epoch 12/60\n",
      "55000/55000 [==============================] - 20s - loss: 0.0296 - acc: 0.9905 - val_loss: 0.0417 - val_acc: 0.9890\n",
      "Epoch 13/60\n",
      "55000/55000 [==============================] - 20s - loss: 0.0287 - acc: 0.9909 - val_loss: 0.0368 - val_acc: 0.9912\n",
      "Epoch 14/60\n",
      "55000/55000 [==============================] - 20s - loss: 0.0277 - acc: 0.9914 - val_loss: 0.0378 - val_acc: 0.9904\n",
      "Epoch 15/60\n",
      "55000/55000 [==============================] - 20s - loss: 0.0217 - acc: 0.9931 - val_loss: 0.0339 - val_acc: 0.9914\n",
      "Epoch 16/60\n",
      "55000/55000 [==============================] - 20s - loss: 0.0219 - acc: 0.9933 - val_loss: 0.0422 - val_acc: 0.9894\n",
      "Epoch 17/60\n",
      "55000/55000 [==============================] - 20s - loss: 0.0210 - acc: 0.9934 - val_loss: 0.0365 - val_acc: 0.9916\n",
      "Epoch 18/60\n",
      "55000/55000 [==============================] - 20s - loss: 0.0195 - acc: 0.9937 - val_loss: 0.0472 - val_acc: 0.9896\n",
      "Epoch 19/60\n",
      "55000/55000 [==============================] - 20s - loss: 0.0196 - acc: 0.9939 - val_loss: 0.0365 - val_acc: 0.9918\n",
      "Epoch 20/60\n",
      "55000/55000 [==============================] - 20s - loss: 0.0186 - acc: 0.9939 - val_loss: 0.0415 - val_acc: 0.9914\n",
      "Epoch 21/60\n",
      "55000/55000 [==============================] - 20s - loss: 0.0164 - acc: 0.9947 - val_loss: 0.0361 - val_acc: 0.9932\n",
      "Epoch 22/60\n",
      "55000/55000 [==============================] - 20s - loss: 0.0147 - acc: 0.9953 - val_loss: 0.0383 - val_acc: 0.9920\n",
      "Epoch 23/60\n",
      "55000/55000 [==============================] - 20s - loss: 0.0147 - acc: 0.9955 - val_loss: 0.0383 - val_acc: 0.9930\n",
      "Epoch 24/60\n",
      "55000/55000 [==============================] - 20s - loss: 0.0136 - acc: 0.9954 - val_loss: 0.0359 - val_acc: 0.9926\n",
      "Epoch 25/60\n",
      "55000/55000 [==============================] - 20s - loss: 0.0134 - acc: 0.9960 - val_loss: 0.0381 - val_acc: 0.9928\n",
      "Epoch 26/60\n",
      "55000/55000 [==============================] - 20s - loss: 0.0134 - acc: 0.9957 - val_loss: 0.0367 - val_acc: 0.9918\n",
      "Epoch 27/60\n",
      "55000/55000 [==============================] - 20s - loss: 0.0129 - acc: 0.9960 - val_loss: 0.0393 - val_acc: 0.9912\n",
      "Epoch 28/60\n",
      "55000/55000 [==============================] - 20s - loss: 0.0118 - acc: 0.9962 - val_loss: 0.0373 - val_acc: 0.9934\n",
      "Epoch 29/60\n",
      "55000/55000 [==============================] - 20s - loss: 0.0111 - acc: 0.9963 - val_loss: 0.0373 - val_acc: 0.9926\n",
      "Epoch 30/60\n",
      "55000/55000 [==============================] - 20s - loss: 0.0100 - acc: 0.9966 - val_loss: 0.0401 - val_acc: 0.9922\n",
      "Epoch 31/60\n",
      "55000/55000 [==============================] - 20s - loss: 0.0101 - acc: 0.9967 - val_loss: 0.0395 - val_acc: 0.9922\n",
      "Epoch 32/60\n",
      "55000/55000 [==============================] - 20s - loss: 0.0096 - acc: 0.9966 - val_loss: 0.0406 - val_acc: 0.9916\n",
      "Epoch 33/60\n",
      "55000/55000 [==============================] - 20s - loss: 0.0084 - acc: 0.9969 - val_loss: 0.0396 - val_acc: 0.9926\n",
      "Epoch 34/60\n",
      "55000/55000 [==============================] - 20s - loss: 0.0083 - acc: 0.9969 - val_loss: 0.0453 - val_acc: 0.9918\n",
      "Epoch 35/60\n",
      "55000/55000 [==============================] - 20s - loss: 0.0082 - acc: 0.9972 - val_loss: 0.0412 - val_acc: 0.9932\n",
      "Epoch 36/60\n",
      "55000/55000 [==============================] - 19s - loss: 0.0083 - acc: 0.9973 - val_loss: 0.0393 - val_acc: 0.9934\n",
      "Epoch 37/60\n",
      "55000/55000 [==============================] - 19s - loss: 0.0084 - acc: 0.9972 - val_loss: 0.0399 - val_acc: 0.9928\n",
      "Epoch 38/60\n",
      "55000/55000 [==============================] - 19s - loss: 0.0080 - acc: 0.9971 - val_loss: 0.0371 - val_acc: 0.9922\n",
      "Epoch 39/60\n",
      "55000/55000 [==============================] - 19s - loss: 0.0063 - acc: 0.9979 - val_loss: 0.0460 - val_acc: 0.9924\n",
      "Epoch 40/60\n",
      "55000/55000 [==============================] - 19s - loss: 0.0073 - acc: 0.9975 - val_loss: 0.0419 - val_acc: 0.9934\n",
      "Epoch 41/60\n",
      "55000/55000 [==============================] - 19s - loss: 0.0072 - acc: 0.9975 - val_loss: 0.0369 - val_acc: 0.9936\n",
      "Epoch 42/60\n",
      "55000/55000 [==============================] - 19s - loss: 0.0056 - acc: 0.9981 - val_loss: 0.0424 - val_acc: 0.9922\n",
      "Epoch 43/60\n",
      "55000/55000 [==============================] - 19s - loss: 0.0066 - acc: 0.9977 - val_loss: 0.0377 - val_acc: 0.9932\n",
      "Epoch 44/60\n",
      "55000/55000 [==============================] - 19s - loss: 0.0064 - acc: 0.9978 - val_loss: 0.0411 - val_acc: 0.9936\n",
      "Epoch 45/60\n",
      "55000/55000 [==============================] - 19s - loss: 0.0056 - acc: 0.9983 - val_loss: 0.0430 - val_acc: 0.9928\n",
      "Epoch 46/60\n",
      "55000/55000 [==============================] - 19s - loss: 0.0060 - acc: 0.9979 - val_loss: 0.0441 - val_acc: 0.9922\n",
      "Epoch 47/60\n",
      "55000/55000 [==============================] - 19s - loss: 0.0055 - acc: 0.9981 - val_loss: 0.0379 - val_acc: 0.9936\n",
      "Epoch 48/60\n",
      "55000/55000 [==============================] - 19s - loss: 0.0051 - acc: 0.9983 - val_loss: 0.0435 - val_acc: 0.9926\n",
      "Epoch 49/60\n",
      "55000/55000 [==============================] - 19s - loss: 0.0041 - acc: 0.9986 - val_loss: 0.0401 - val_acc: 0.9944\n",
      "Epoch 50/60\n",
      "55000/55000 [==============================] - 19s - loss: 0.0052 - acc: 0.9984 - val_loss: 0.0409 - val_acc: 0.9936\n",
      "Epoch 51/60\n",
      "55000/55000 [==============================] - 19s - loss: 0.0049 - acc: 0.9985 - val_loss: 0.0422 - val_acc: 0.9926\n",
      "Epoch 52/60\n",
      "55000/55000 [==============================] - 19s - loss: 0.0054 - acc: 0.9983 - val_loss: 0.0437 - val_acc: 0.9924\n",
      "Epoch 53/60\n",
      "55000/55000 [==============================] - 19s - loss: 0.0053 - acc: 0.9982 - val_loss: 0.0460 - val_acc: 0.9922\n",
      "Epoch 54/60\n",
      "55000/55000 [==============================] - 19s - loss: 0.0040 - acc: 0.9989 - val_loss: 0.0388 - val_acc: 0.9938\n",
      "Epoch 55/60\n",
      "55000/55000 [==============================] - 19s - loss: 0.0051 - acc: 0.9984 - val_loss: 0.0397 - val_acc: 0.9934\n",
      "Epoch 56/60\n",
      "55000/55000 [==============================] - 19s - loss: 0.0050 - acc: 0.9983 - val_loss: 0.0480 - val_acc: 0.9932\n",
      "Epoch 57/60\n",
      "55000/55000 [==============================] - 19s - loss: 0.0040 - acc: 0.9987 - val_loss: 0.0400 - val_acc: 0.9930\n",
      "Epoch 58/60\n",
      "55000/55000 [==============================] - 19s - loss: 0.0042 - acc: 0.9986 - val_loss: 0.0477 - val_acc: 0.9924\n",
      "Epoch 59/60\n",
      "55000/55000 [==============================] - 19s - loss: 0.0041 - acc: 0.9987 - val_loss: 0.0417 - val_acc: 0.9928\n",
      "Epoch 60/60\n",
      "55000/55000 [==============================] - 19s - loss: 0.0043 - acc: 0.9986 - val_loss: 0.0454 - val_acc: 0.9928\n"
     ]
    }
   ],
   "source": [
    "network_history=model.fit(X_train, Y_train, validation_data = (X_val, Y_val), epochs=60, \n",
    "          batch_size=100, verbose=True)"
   ]
  },
  {
   "cell_type": "code",
   "execution_count": 40,
   "metadata": {},
   "outputs": [
    {
     "data": {
      "image/png": "[encoded data removed]",
      "text/plain": [
       "<matplotlib.figure.Figure at 0x7f370e6c6208>"
      ]
     },
     "metadata": {},
     "output_type": "display_data"
    },
    {
     "data": {
      "image/png": "[encoded data removed]",
      "text/plain": [
       "<matplotlib.figure.Figure at 0x7f36d01d2be0>"
      ]
     },
     "metadata": {},
     "output_type": "display_data"
    }
   ],
   "source": [
    "import matplotlib.pyplot as plt\n",
    "%matplotlib inline\n",
    "\n",
    "def plot_history(network_history):\n",
    "    plt.figure()\n",
    "    plt.xlabel('Epochs')\n",
    "    plt.ylabel('Loss')\n",
    "    plt.plot(network_history.history['loss'])\n",
    "    plt.plot(network_history.history['val_loss'])\n",
    "    plt.legend(['Training', 'Validation'])\n",
    "\n",
    "    plt.figure()\n",
    "    plt.xlabel('Epochs')\n",
    "    plt.ylabel('Accuracy')\n",
    "    plt.plot(network_history.history['acc'])\n",
    "    plt.plot(network_history.history['val_acc'])\n",
    "    plt.legend(['Training', 'Validation'], loc='lower right')\n",
    "    plt.show()\n",
    "\n",
    "plot_history(network_history)"
   ]
  },
  {
   "cell_type": "code",
   "execution_count": 41,
   "metadata": {
    "collapsed": true
   },
   "outputs": [],
   "source": [
    "model.save('modelo.h5')\n",
    "model.save_weights('pesos.h5')"
   ]
  },
  {
   "cell_type": "code",
   "execution_count": null,
   "metadata": {
    "collapsed": true
   },
   "outputs": [],
   "source": []
  }
 ],
 "metadata": {
  "kernelspec": {
   "display_name": "Python 3",
   "language": "python",
   "name": "python3"
  },
  "language_info": {
   "codemirror_mode": {
    "name": "ipython",
    "version": 3
   },
   "file_extension": ".py",
   "mimetype": "text/x-python",
   "name": "python",
   "nbconvert_exporter": "python",
   "pygments_lexer": "ipython3",
   "version": "3.5.2"
  }
 },
 "nbformat": 4,
 "nbformat_minor": 2
}
